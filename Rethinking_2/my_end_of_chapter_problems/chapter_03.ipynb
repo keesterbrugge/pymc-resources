{
 "cells": [
  {
   "cell_type": "code",
   "execution_count": 28,
   "metadata": {},
   "outputs": [],
   "source": [
    "import numpy as np\n",
    "import scipy.stats as stats\n",
    "import matplotlib.pyplot as plt\n",
    "import arviz as az"
   ]
  },
  {
   "cell_type": "code",
   "execution_count": 10,
   "metadata": {},
   "outputs": [
    {
     "data": {
      "text/plain": [
       "(array([   9.,   62.,  294.,  766., 1432., 2130., 2355., 1864.,  930.,\n",
       "         158.]),\n",
       " array([0.10710711, 0.19459459, 0.28208208, 0.36956957, 0.45705706,\n",
       "        0.54454454, 0.63203203, 0.71951952, 0.80700701, 0.89449449,\n",
       "        0.98198198]),\n",
       " <a list of 10 Patch objects>)"
      ]
     },
     "execution_count": 10,
     "metadata": {},
     "output_type": "execute_result"
    },
    {
     "data": {
      "image/png": "[encoded data removed]",
      "text/plain": [
       "<Figure size 432x288 with 1 Axes>"
      ]
     },
     "metadata": {
      "needs_background": "light"
     },
     "output_type": "display_data"
    }
   ],
   "source": [
    "# p_grid <- seq( from=0 , to=1 , length.out=1000 )\n",
    "# prior <- rep( 1 , 1000 )\n",
    "# likelihood <- dbinom( 6 , size=9 , prob=p_grid )\n",
    "# posterior <- likelihood * prior\n",
    "# posterior <- posterior / sum(posterior)\n",
    "# set.seed(100)\n",
    "# samples <- sample( p_grid , prob=posterior , size=1e4 , replace=TRUE )”\n",
    "\n",
    "n_grid_points = 1000\n",
    "p_grid = np.linspace(0, 1, n_grid_points)\n",
    "\n",
    "prior = np.ones_like(p_grid)\n",
    "likelihood = stats.binom.pmf(6, 9, p_grid)\n",
    "\n",
    "unstd_posterior = likelihood * prior\n",
    "\n",
    "posterior = unstd_posterior / unstd_posterior.sum()\n",
    "\n",
    "np.random.seed(100)\n",
    "\n",
    "n_samples = int(1e4)\n",
    "samples = np.random.choice(p_grid, p=posterior, size=n_samples, replace=True)\n",
    "\n",
    "plt.hist(samples)\n"
   ]
  },
  {
   "cell_type": "code",
   "execution_count": 22,
   "metadata": {},
   "outputs": [
    {
     "data": {
      "text/plain": [
       "0.0021"
      ]
     },
     "execution_count": 22,
     "metadata": {},
     "output_type": "execute_result"
    }
   ],
   "source": [
    "(samples < 0.23).sum() / n_samples\n"
   ]
  },
  {
   "cell_type": "code",
   "execution_count": 17,
   "metadata": {},
   "outputs": [
    {
     "data": {
      "text/plain": [
       "0.1209"
      ]
     },
     "execution_count": 17,
     "metadata": {},
     "output_type": "execute_result"
    }
   ],
   "source": [
    "(samples > 0.8).sum() / n_samples\n"
   ]
  },
  {
   "cell_type": "code",
   "execution_count": 19,
   "metadata": {},
   "outputs": [
    {
     "data": {
      "text/plain": [
       "0.8781"
      ]
     },
     "execution_count": 19,
     "metadata": {},
     "output_type": "execute_result"
    }
   ],
   "source": [
    "((0.2  < samples) &( samples < 0.8)).sum() / n_samples\n"
   ]
  },
  {
   "cell_type": "code",
   "execution_count": 27,
   "metadata": {},
   "outputs": [
    {
     "data": {
      "text/plain": [
       "array([0.51551552, 0.75975976])"
      ]
     },
     "execution_count": 27,
     "metadata": {},
     "output_type": "execute_result"
    }
   ],
   "source": [
    "np.percentile(samples, [20, 80])"
   ]
  },
  {
   "cell_type": "code",
   "execution_count": 42,
   "metadata": {},
   "outputs": [
    {
     "data": {
      "text/plain": [
       "array([0.51651652, 0.78878879])"
      ]
     },
     "execution_count": 42,
     "metadata": {},
     "output_type": "execute_result"
    }
   ],
   "source": [
    "az.hdi(samples, .66)"
   ]
  },
  {
   "cell_type": "code",
   "execution_count": 71,
   "metadata": {},
   "outputs": [
    {
     "data": {
      "text/plain": [
       "(array([  24.,   81.,  228.,  515.,  808., 1233., 1479., 1639., 1513.,\n",
       "        1108.,  799.,  377.,  153.,   33.,   10.]),\n",
       " array([0.16116116, 0.21134468, 0.26152819, 0.31171171, 0.36189523,\n",
       "        0.41207875, 0.46226226, 0.51244578, 0.5626293 , 0.61281281,\n",
       "        0.66299633, 0.71317985, 0.76336336, 0.81354688, 0.8637304 ,\n",
       "        0.91391391]),\n",
       " <a list of 15 Patch objects>)"
      ]
     },
     "execution_count": 71,
     "metadata": {},
     "output_type": "execute_result"
    },
    {
     "data": {
      "image/png": "[encoded data removed]",
      "text/plain": [
       "<Figure size 432x288 with 1 Axes>"
      ]
     },
     "metadata": {
      "needs_background": "light"
     },
     "output_type": "display_data"
    }
   ],
   "source": [
    "likelihood = stats.binom.pmf(8, 15, p_grid)\n",
    "\n",
    "unstd_posterior = likelihood * prior\n",
    "\n",
    "posterior = unstd_posterior / unstd_posterior.sum()\n",
    "\n",
    "np.random.seed(101)\n",
    "\n",
    "n_samples = int(1e4)\n",
    "samples = np.random.choice(p_grid, p=posterior, size=n_samples, replace=True)\n",
    "\n",
    "plt.hist(samples)"
   ]
  },
  {
   "cell_type": "code",
   "execution_count": 54,
   "metadata": {},
   "outputs": [
    {
     "data": {
      "text/plain": [
       "array([0.33433433, 0.72072072])"
      ]
     },
     "execution_count": 54,
     "metadata": {},
     "output_type": "execute_result"
    }
   ],
   "source": [
    "az.hdi(samples, 0.9)"
   ]
  },
  {
   "cell_type": "code",
   "execution_count": 75,
   "metadata": {},
   "outputs": [
    {
     "data": {
      "text/plain": [
       "(array([5.000e+00, 2.000e+01, 7.500e+01, 2.550e+02, 6.440e+02, 1.217e+03,\n",
       "        1.759e+03, 2.000e+03, 1.847e+03, 1.232e+03, 6.460e+02, 2.420e+02,\n",
       "        4.800e+01, 9.000e+00, 1.000e+00]),\n",
       " array([ 1.        ,  1.93333333,  2.86666667,  3.8       ,  4.73333333,\n",
       "         5.66666667,  6.6       ,  7.53333333,  8.46666667,  9.4       ,\n",
       "        10.33333333, 11.26666667, 12.2       , 13.13333333, 14.06666667,\n",
       "        15.        ]),\n",
       " <a list of 15 Patch objects>)"
      ]
     },
     "execution_count": 75,
     "metadata": {},
     "output_type": "execute_result"
    },
    {
     "data": {
      "image/png": "[encoded data removed]",
      "text/plain": [
       "<Figure size 432x288 with 1 Axes>"
      ]
     },
     "metadata": {
      "needs_background": "light"
     },
     "output_type": "display_data"
    }
   ],
   "source": [
    "posterior_predictive = stats.binom(n=15, p = samples).rvs(size=n_samples)\n",
    "\n",
    "plt.hist(posterior_predictive, bins=15)\n",
    "\n",
    "binomial_samples = stats.binom(n=15, p = 8/15).rvs(size=n_samples)\n",
    "\n",
    "plt.hist(binomial_samples, bins=15)"
   ]
  },
  {
   "cell_type": "code",
   "execution_count": 69,
   "metadata": {},
   "outputs": [
    {
     "data": {
      "text/plain": [
       "0.1472"
      ]
     },
     "execution_count": 69,
     "metadata": {},
     "output_type": "execute_result"
    }
   ],
   "source": [
    "(posterior_predictive == 8).sum() / n_samples"
   ]
  },
  {
   "cell_type": "code",
   "execution_count": 91,
   "metadata": {},
   "outputs": [
    {
     "data": {
      "text/plain": [
       "(0, 1)"
      ]
     },
     "execution_count": 91,
     "metadata": {},
     "output_type": "execute_result"
    },
    {
     "data": {
      "image/png": "[encoded data removed]",
      "text/plain": [
       "<Figure size 432x288 with 1 Axes>"
      ]
     },
     "metadata": {
      "needs_background": "light"
     },
     "output_type": "display_data"
    }
   ],
   "source": [
    "n_grid_points = 10000\n",
    "p_grid = np.linspace(0, 1, n_grid_points) \n",
    "\n",
    "prior = np.where(p_grid < .5, 0, 1)\n",
    "\n",
    "likelihood = stats.binom.pmf(8, 15, p_grid)\n",
    "\n",
    "unstd_posterior = likelihood * prior\n",
    "\n",
    "posterior = unstd_posterior / unstd_posterior.sum()\n",
    "\n",
    "np.random.seed(101)\n",
    "\n",
    "n_samples = int(1e4)\n",
    "samples = np.random.choice(p_grid, p=posterior, size=n_samples, replace=True)\n",
    "\n",
    "plt.hist(samples, bins=15)\n",
    "\n",
    "plt.xlim(0,1)"
   ]
  },
  {
   "cell_type": "code",
   "execution_count": 92,
   "metadata": {},
   "outputs": [
    {
     "data": {
      "text/plain": [
       "array([0.50005001, 0.71337134])"
      ]
     },
     "execution_count": 92,
     "metadata": {},
     "output_type": "execute_result"
    }
   ],
   "source": [
    "az.hdi(samples, 0.9)"
   ]
  },
  {
   "cell_type": "code",
   "execution_count": 94,
   "metadata": {},
   "outputs": [
    {
     "data": {
      "text/plain": [
       "(array([1.000e+00, 1.100e+01, 7.400e+01, 2.530e+02, 6.150e+02, 1.257e+03,\n",
       "        1.785e+03, 2.075e+03, 1.802e+03, 1.188e+03, 6.310e+02, 2.380e+02,\n",
       "        6.200e+01, 7.000e+00, 1.000e+00]),\n",
       " array([ 1.        ,  1.93333333,  2.86666667,  3.8       ,  4.73333333,\n",
       "         5.66666667,  6.6       ,  7.53333333,  8.46666667,  9.4       ,\n",
       "        10.33333333, 11.26666667, 12.2       , 13.13333333, 14.06666667,\n",
       "        15.        ]),\n",
       " <a list of 15 Patch objects>)"
      ]
     },
     "execution_count": 94,
     "metadata": {},
     "output_type": "execute_result"
    },
    {
     "data": {
      "image/png": "[encoded data removed]",
      "text/plain": [
       "<Figure size 432x288 with 1 Axes>"
      ]
     },
     "metadata": {
      "needs_background": "light"
     },
     "output_type": "display_data"
    }
   ],
   "source": [
    "posterior_predictive = stats.binom(n=15, p = samples).rvs(size=n_samples)\n",
    "\n",
    "\n",
    "plt.hist(posterior_predictive, bins=15)\n",
    "\n",
    "\n",
    "binomial_samples = stats.binom(n=15, p = 8/15).rvs(size=n_samples)\n",
    "\n",
    "plt.hist(binomial_samples, bins=15)"
   ]
  },
  {
   "cell_type": "code",
   "execution_count": 95,
   "metadata": {},
   "outputs": [
    {
     "data": {
      "text/plain": [
       "0.1522"
      ]
     },
     "execution_count": 95,
     "metadata": {},
     "output_type": "execute_result"
    }
   ],
   "source": [
    "(posterior_predictive == 8).sum() / n_samples"
   ]
  },
  {
   "cell_type": "code",
   "execution_count": 97,
   "metadata": {},
   "outputs": [
    {
     "data": {
      "text/plain": [
       "(array([   3.,    9.,   32.,  119.,    0.,  347.,  839., 1475., 2004.,\n",
       "           0., 2203., 1727.,  921.,  285.,   36.]),\n",
       " array([ 3. ,  3.8,  4.6,  5.4,  6.2,  7. ,  7.8,  8.6,  9.4, 10.2, 11. ,\n",
       "        11.8, 12.6, 13.4, 14.2, 15. ]),\n",
       " <a list of 15 Patch objects>)"
      ]
     },
     "execution_count": 97,
     "metadata": {},
     "output_type": "execute_result"
    },
    {
     "data": {
      "image/png": "[encoded data removed]",
      "text/plain": [
       "<Figure size 432x288 with 1 Axes>"
      ]
     },
     "metadata": {
      "needs_background": "light"
     },
     "output_type": "display_data"
    }
   ],
   "source": [
    "posterior_predictive = stats.binom(n=15, p = samples).rvs(size=n_samples)\n",
    "\n",
    "\n",
    "plt.hist(posterior_predictive, bins=15)\n",
    "\n",
    "\n",
    "\n",
    "binomial_samples_w_true = stats.binom(n=15, p = .7).rvs(size=n_samples)\n",
    "\n",
    "plt.hist(binomial_samples_w_true, bins=15)"
   ]
  },
  {
   "cell_type": "code",
   "execution_count": 98,
   "metadata": {},
   "outputs": [
    {
     "data": {
      "text/plain": [
       "(array([1.000e+00, 3.000e+00, 3.300e+01, 1.040e+02, 0.000e+00, 3.490e+02,\n",
       "        7.970e+02, 1.459e+03, 2.083e+03, 0.000e+00, 2.138e+03, 1.724e+03,\n",
       "        9.740e+02, 2.920e+02, 4.300e+01]),\n",
       " array([ 3. ,  3.8,  4.6,  5.4,  6.2,  7. ,  7.8,  8.6,  9.4, 10.2, 11. ,\n",
       "        11.8, 12.6, 13.4, 14.2, 15. ]),\n",
       " <a list of 15 Patch objects>)"
      ]
     },
     "execution_count": 98,
     "metadata": {},
     "output_type": "execute_result"
    },
    {
     "data": {
      "image/png": "[encoded data removed]",
      "text/plain": [
       "<Figure size 432x288 with 1 Axes>"
      ]
     },
     "metadata": {
      "needs_background": "light"
     },
     "output_type": "display_data"
    }
   ],
   "source": [
    "\n",
    "\n",
    "binomial_samples = stats.binom(n=15, p = 8/15).rvs(size=n_samples)\n",
    "\n",
    "plt.hist(binomial_samples, bins=15)\n",
    "\n",
    "\n",
    "binomial_samples_w_true = stats.binom(n=15, p = .7).rvs(size=n_samples)\n",
    "\n",
    "plt.hist(binomial_samples_w_true, bins=15)"
   ]
  },
  {
   "cell_type": "code",
   "execution_count": 102,
   "metadata": {},
   "outputs": [
    {
     "data": {
      "text/plain": [
       "6"
      ]
     },
     "execution_count": 102,
     "metadata": {},
     "output_type": "execute_result"
    }
   ],
   "source": [
    "stats.binom(n=15, p = 8/15).rvs()"
   ]
  },
  {
   "cell_type": "code",
   "execution_count": 111,
   "metadata": {},
   "outputs": [
    {
     "name": "stdout",
     "output_type": "stream",
     "text": [
      "n_draws = 16, hdi = [0.38338338 0.90590591], with width 0.5225225225225225\n",
      "n_draws = 25, hdi = [0.43443443 0.87287287], with width 0.43843843843843844\n",
      "n_draws = 36, hdi = [0.48948949 0.85985986], with width 0.3703703703703703\n",
      "n_draws = 49, hdi = [0.51551552 0.83883884], with width 0.32332332332332325\n",
      "n_draws = 64, hdi = [0.53453453 0.82182182], with width 0.28728728728728736\n",
      "n_draws = 81, hdi = [0.55155155 0.80780781], with width 0.25625625625625625\n",
      "n_draws = 100, hdi = [0.57957958 0.80880881], with width 0.22922922922922917\n",
      "n_draws = 121, hdi = [0.58458458 0.7957958 ], with width 0.21121121121121111\n",
      "n_draws = 144, hdi = [0.59059059 0.78478478], with width 0.19419419419419415\n",
      "n_draws = 169, hdi = [0.6046046  0.78378378], with width 0.17917917917917914\n",
      "n_draws = 196, hdi = [0.61361361 0.77977978], with width 0.16616616616616608\n",
      "n_draws = 225, hdi = [0.61761762 0.77277277], with width 0.1551551551551552\n",
      "n_draws = 256, hdi = [0.62562563 0.77077077], with width 0.1451451451451451\n",
      "n_draws = 289, hdi = [0.62862863 0.76576577], with width 0.13713713713713704\n",
      "n_draws = 324, hdi = [0.62962963 0.75975976], with width 0.13013013013013008\n",
      "n_draws = 361, hdi = [0.63563564 0.75875876], with width 0.12312312312312312\n",
      "n_draws = 400, hdi = [0.63963964 0.75675676], with width 0.11711711711711714\n",
      "n_draws = 441, hdi = [0.64364364 0.75575576], with width 0.11211211211211203\n",
      "n_draws = 484, hdi = [0.64464464 0.75075075], with width 0.10610610610610605\n",
      "n_draws = 529, hdi = [0.64864865 0.75075075], with width 0.10210210210210202\n",
      "n_draws = 576, hdi = [0.64964965 0.74674675], with width 0.09709709709709713\n",
      "n_draws = 625, hdi = [0.65065065 0.74474474], with width 0.09409409409409408\n",
      "n_draws = 676, hdi = [0.65365365 0.74374374], with width 0.09009009009009006\n",
      "n_draws = 729, hdi = [0.65465465 0.74174174], with width 0.08708708708708712\n",
      "n_draws = 784, hdi = [0.65465465 0.73873874], with width 0.08408408408408408\n",
      "n_draws = 841, hdi = [0.65865866 0.73973974], with width 0.08108108108108103\n",
      "n_draws = 900, hdi = [0.66066066 0.73873874], with width 0.0780780780780781\n",
      "n_draws = 961, hdi = [0.66166166 0.73673674], with width 0.07507507507507516\n",
      "n_draws = 1024, hdi = [0.66166166 0.73473473], with width 0.07307307307307309\n",
      "n_draws = 1089, hdi = [0.66366366 0.73473473], with width 0.07107107107107102\n",
      "n_draws = 1156, hdi = [0.66266266 0.73173173], with width 0.06906906906906907\n",
      "n_draws = 1225, hdi = [0.66466466 0.73173173], with width 0.067067067067067\n",
      "n_draws = 1296, hdi = [0.66666667 0.73173173], with width 0.06506506506506504\n",
      "n_draws = 1369, hdi = [0.66766767 0.73073073], with width 0.06306306306306309\n",
      "n_draws = 1444, hdi = [0.66966967 0.73073073], with width 0.06106106106106102\n",
      "n_draws = 1521, hdi = [0.66866867 0.72872873], with width 0.06006006006006004\n",
      "n_draws = 1600, hdi = [0.67067067 0.72872873], with width 0.05805805805805808\n",
      "n_draws = 1681, hdi = [0.67067067 0.72772773], with width 0.0570570570570571\n",
      "n_draws = 1764, hdi = [0.66966967 0.72572573], with width 0.056056056056056014\n",
      "n_draws = 1849, hdi = [0.67267267 0.72672673], with width 0.05405405405405406\n",
      "n_draws = 1936, hdi = [0.67367367 0.72672673], with width 0.05305305305305297\n",
      "n_draws = 2025, hdi = [0.67367367 0.72572573], with width 0.05205205205205199\n",
      "n_draws = 2116, hdi = [0.67367367 0.72472472], with width 0.05105105105105101\n",
      "n_draws = 2209, hdi = [0.67367367 0.72372372], with width 0.05005005005005003\n",
      "n_draws = 2304, hdi = [0.67367367 0.72272272], with width 0.049049049049049054\n",
      "n_draws = 2401, hdi = [0.67467467 0.72272272], with width 0.048048048048048075\n"
     ]
    }
   ],
   "source": [
    "n_grid_points = 1000\n",
    "p_grid = np.linspace(0, 1, n_grid_points) \n",
    "\n",
    "prior = np.ones_like(p_grid)\n",
    "\n",
    "for n_draws in np.arange(4,50)**2:\n",
    "\n",
    "    likelihood = stats.binom.pmf(int(.7 * n_draws), n_draws, p_grid)\n",
    "\n",
    "    unstd_posterior = likelihood * prior\n",
    "\n",
    "    posterior = unstd_posterior / unstd_posterior.sum()\n",
    "\n",
    "    np.random.seed(101)\n",
    "\n",
    "    n_samples = int(1e4)\n",
    "    samples = np.random.choice(p_grid, p=posterior, size=n_samples, replace=True)\n",
    "\n",
    "    hdi = az.hdi(samples, 0.99)\n",
    "    print(f\"n_draws = {n_draws}, hdi = {hdi}, with width {hdi[1]-hdi[0]}\")"
   ]
  },
  {
   "cell_type": "code",
   "execution_count": 105,
   "metadata": {},
   "outputs": [
    {
     "data": {
      "text/plain": [
       "array([ 4,  9, 16, 25, 36, 49, 64, 81])"
      ]
     },
     "execution_count": 105,
     "metadata": {},
     "output_type": "execute_result"
    }
   ],
   "source": [
    "np.arange(2,10)**2"
   ]
  },
  {
   "cell_type": "code",
   "execution_count": 115,
   "metadata": {},
   "outputs": [],
   "source": [
    "birth1  = np.array([1,0,0,0,1,1,0,1,0,1,0,0,1,1,0,1,1,0,0,0,1,0,0,0,1,0,\n",
    "0,0,0,1,1,1,0,1,0,1,1,1,0,1,0,1,1,0,1,0,0,1,1,0,1,0,0,0,0,0,0,0,\n",
    "1,1,0,1,0,0,1,0,0,0,1,0,0,1,1,1,1,0,1,0,1,1,1,1,1,0,0,1,0,1,1,0,\n",
    "1,0,1,1,1,0,1,1,1,1])\n",
    "birth2 = np.array([0,1,0,1,0,1,1,1,0,0,1,1,1,1,1,0,0,1,1,1,0,0,1,1,1,0,\n",
    "1,1,1,0,1,1,1,0,1,0,0,1,1,1,1,0,0,1,0,1,1,1,1,1,1,1,1,1,1,1,1,1,\n",
    "1,1,1,0,1,1,0,1,1,0,1,1,1,0,0,0,0,0,0,1,0,0,0,1,1,0,0,1,0,0,1,1,\n",
    "0,0,0,1,1,1,0,0,0,0])\n"
   ]
  },
  {
   "cell_type": "code",
   "execution_count": 117,
   "metadata": {},
   "outputs": [
    {
     "data": {
      "text/plain": [
       "100"
      ]
     },
     "execution_count": 117,
     "metadata": {},
     "output_type": "execute_result"
    }
   ],
   "source": [
    "(birth1 + birth2).sum()\n",
    "birth1.size"
   ]
  },
  {
   "cell_type": "code",
   "execution_count": 158,
   "metadata": {},
   "outputs": [
    {
     "data": {
      "text/plain": [
       "0.9379"
      ]
     },
     "execution_count": 158,
     "metadata": {},
     "output_type": "execute_result"
    },
    {
     "data": {
      "image/png": "[encoded data removed]",
      "text/plain": [
       "<Figure size 432x288 with 1 Axes>"
      ]
     },
     "metadata": {
      "needs_background": "light"
     },
     "output_type": "display_data"
    }
   ],
   "source": [
    "n_grid_points = 1000\n",
    "n_samples = 10000\n",
    "\n",
    "p_grid = np.linspace(0,1,n_grid_points)\n",
    "\n",
    "prior = np.ones_like(p_grid)\n",
    "\n",
    "likelihood = stats.binom.pmf(111, 200, p_grid)\n",
    "\n",
    "unstd_posterior = likelihood * prior\n",
    "\n",
    "posterior = unstd_posterior / unstd_posterior.sum()\n",
    "posterior\n",
    "samples = np.random.choice(p_grid, p=posterior, size=n_samples, replace=True)\n",
    "\n",
    "plt.hist(samples)\n",
    "(samples > 0.5).sum() / n_samples"
   ]
  },
  {
   "cell_type": "code",
   "execution_count": 159,
   "metadata": {},
   "outputs": [
    {
     "data": {
      "text/plain": [
       "array([0.55455455])"
      ]
     },
     "execution_count": 159,
     "metadata": {},
     "output_type": "execute_result"
    }
   ],
   "source": [
    "p_grid[posterior == posterior.max()]"
   ]
  },
  {
   "cell_type": "code",
   "execution_count": 160,
   "metadata": {},
   "outputs": [
    {
     "data": {
      "text/plain": [
       "[<matplotlib.lines.Line2D at 0x15bbd5af0>]"
      ]
     },
     "execution_count": 160,
     "metadata": {},
     "output_type": "execute_result"
    },
    {
     "data": {
      "image/png": "[encoded data removed]",
      "text/plain": [
       "<Figure size 432x288 with 1 Axes>"
      ]
     },
     "metadata": {
      "needs_background": "light"
     },
     "output_type": "display_data"
    }
   ],
   "source": [
    "plt.plot(p_grid, posterior)"
   ]
  },
  {
   "cell_type": "code",
   "execution_count": 161,
   "metadata": {},
   "outputs": [
    {
     "data": {
      "text/plain": [
       "array([0.49349349, 0.60760761])"
      ]
     },
     "execution_count": 161,
     "metadata": {},
     "output_type": "execute_result"
    }
   ],
   "source": [
    "az.hdi(samples, 0.9)"
   ]
  },
  {
   "cell_type": "code",
   "execution_count": 162,
   "metadata": {},
   "outputs": [
    {
     "data": {
      "text/plain": [
       "array([0.53053053, 0.57757758])"
      ]
     },
     "execution_count": 162,
     "metadata": {},
     "output_type": "execute_result"
    }
   ],
   "source": [
    "az.hdi(samples, 0.5)"
   ]
  },
  {
   "cell_type": "code",
   "execution_count": 163,
   "metadata": {},
   "outputs": [
    {
     "data": {
      "text/plain": [
       "array([114, 108, 124, ..., 119, 108, 128])"
      ]
     },
     "execution_count": 163,
     "metadata": {},
     "output_type": "execute_result"
    }
   ],
   "source": [
    "posterior_predictive = stats.binom.rvs(n=200, p=samples)\n",
    "posterior_predictive"
   ]
  },
  {
   "cell_type": "code",
   "execution_count": 164,
   "metadata": {},
   "outputs": [
    {
     "data": {
      "image/png": "[encoded data removed]",
      "text/plain": [
       "<Figure size 432x288 with 1 Axes>"
      ]
     },
     "metadata": {
      "needs_background": "light"
     },
     "output_type": "display_data"
    }
   ],
   "source": [
    "\n",
    "plt.hist(posterior_predictive)\n",
    "\n",
    "plt.vlines(111, ymin = 0, ymax = 1000, colors=\"r\")\n",
    "\n",
    "plt.show()"
   ]
  },
  {
   "cell_type": "code",
   "execution_count": 165,
   "metadata": {},
   "outputs": [
    {
     "data": {
      "text/plain": [
       "0.4839"
      ]
     },
     "execution_count": 165,
     "metadata": {},
     "output_type": "execute_result"
    }
   ],
   "source": [
    "(posterior_predictive < 111).sum() / n_samples"
   ]
  },
  {
   "cell_type": "code",
   "execution_count": 166,
   "metadata": {},
   "outputs": [
    {
     "data": {
      "text/plain": [
       "array([103, 113])"
      ]
     },
     "execution_count": 166,
     "metadata": {},
     "output_type": "execute_result"
    }
   ],
   "source": [
    "az.hdi(posterior_predictive, 0.4)"
   ]
  },
  {
   "cell_type": "code",
   "execution_count": 169,
   "metadata": {},
   "outputs": [
    {
     "data": {
      "text/plain": [
       "<matplotlib.collections.LineCollection at 0x1550cdca0>"
      ]
     },
     "execution_count": 169,
     "metadata": {},
     "output_type": "execute_result"
    },
    {
     "data": {
      "image/png": "[encoded data removed]",
      "text/plain": [
       "<Figure size 432x288 with 1 Axes>"
      ]
     },
     "metadata": {
      "needs_background": "light"
     },
     "output_type": "display_data"
    }
   ],
   "source": [
    "n_grid_points = 1000\n",
    "n_samples = 10000\n",
    "\n",
    "p_grid = np.linspace(0,1,n_grid_points)\n",
    "\n",
    "prior = np.ones_like(p_grid)\n",
    "\n",
    "likelihood = stats.binom.pmf(birth1.sum(), birth1.size, p_grid)\n",
    "\n",
    "unstd_posterior = likelihood * prior\n",
    "\n",
    "posterior = unstd_posterior / unstd_posterior.sum()\n",
    "posterior\n",
    "samples = np.random.choice(p_grid, p=posterior, size=n_samples, replace=True)\n",
    "\n",
    "posterior_predictive = stats.binom.rvs(n=100, p=samples)\n",
    "\n",
    "plt.hist(posterior_predictive)\n",
    "\n",
    "plt.vlines(birth1.sum(), ymin = 0, ymax = 1000, colors=\"r\")\n"
   ]
  },
  {
   "cell_type": "code",
   "execution_count": 171,
   "metadata": {},
   "outputs": [
    {
     "data": {
      "text/plain": [
       "<matplotlib.collections.LineCollection at 0x15ba5bee0>"
      ]
     },
     "execution_count": 171,
     "metadata": {},
     "output_type": "execute_result"
    },
    {
     "data": {
      "image/png": "[encoded data removed]",
      "text/plain": [
       "<Figure size 432x288 with 1 Axes>"
      ]
     },
     "metadata": {
      "needs_background": "light"
     },
     "output_type": "display_data"
    }
   ],
   "source": [
    "n_grid_points = 1000\n",
    "n_samples = 10000\n",
    "\n",
    "p_grid = np.linspace(0,1,n_grid_points)\n",
    "\n",
    "prior = np.ones_like(p_grid)\n",
    "\n",
    "n = (birth1==0).sum()\n",
    "k = birth2[birth1==0].sum()\n",
    "likelihood = stats.binom.pmf(k, n, p_grid)\n",
    "\n",
    "unstd_posterior = likelihood * prior\n",
    "\n",
    "posterior = unstd_posterior / unstd_posterior.sum()\n",
    "posterior\n",
    "samples = np.random.choice(p_grid, p=posterior, size=n_samples, replace=True)\n",
    "\n",
    "posterior_predictive = stats.binom.rvs(n=n, p=samples)\n",
    "\n",
    "plt.hist(posterior_predictive)\n",
    "\n",
    "plt.vlines(k, ymin = 0, ymax = 1000, colors=\"r\")\n"
   ]
  },
  {
   "cell_type": "code",
   "execution_count": 178,
   "metadata": {},
   "outputs": [
    {
     "data": {
      "text/plain": [
       "(49, 39)"
      ]
     },
     "execution_count": 178,
     "metadata": {},
     "output_type": "execute_result"
    },
    {
     "data": {
      "image/png": "[encoded data removed]",
      "text/plain": [
       "<Figure size 432x288 with 1 Axes>"
      ]
     },
     "metadata": {
      "needs_background": "light"
     },
     "output_type": "display_data"
    }
   ],
   "source": [
    "plt.hist(samples)\n",
    "plt.vlines(x=0.5, ymin=0,ymax=100, colors=\"r\")\n",
    "n,k"
   ]
  },
  {
   "cell_type": "code",
   "execution_count": 180,
   "metadata": {},
   "outputs": [
    {
     "data": {
      "text/plain": [
       "<matplotlib.collections.LineCollection at 0x15bed3e80>"
      ]
     },
     "execution_count": 180,
     "metadata": {},
     "output_type": "execute_result"
    },
    {
     "data": {
      "image/png": "[encoded data removed]",
      "text/plain": [
       "<Figure size 432x288 with 1 Axes>"
      ]
     },
     "metadata": {
      "needs_background": "light"
     },
     "output_type": "display_data"
    }
   ],
   "source": [
    "n_grid_points = 1000\n",
    "n_samples = 10000\n",
    "\n",
    "p_grid = np.linspace(0,1,n_grid_points)\n",
    "\n",
    "prior = np.ones_like(p_grid)\n",
    "\n",
    "# n = (birth1==0).sum()\n",
    "# k = birth2[birth1==0].sum()\n",
    "n =  birth1.size + birth2.size\n",
    "k =  (birth1 + birth2).sum()\n",
    "\n",
    "likelihood = stats.binom.pmf(k, n, p_grid)\n",
    "\n",
    "unstd_posterior = likelihood * prior\n",
    "\n",
    "posterior = unstd_posterior / unstd_posterior.sum()\n",
    "posterior\n",
    "samples = np.random.choice(p_grid, p=posterior, size=n_samples, replace=True)\n",
    "\n",
    "n_g1 = (birth1==0).sum()\n",
    "k_g1 = birth2[birth1==0].sum()\n",
    "posterior_predictive = stats.binom.rvs(n=n_g1, p=samples)\n",
    "\n",
    "plt.hist(posterior_predictive)\n",
    "\n",
    "plt.vlines(k_g1, ymin = 0, ymax = 1000, colors=\"r\")\n"
   ]
  },
  {
   "cell_type": "code",
   "execution_count": null,
   "metadata": {},
   "outputs": [],
   "source": []
  },
  {
   "cell_type": "code",
   "execution_count": null,
   "metadata": {},
   "outputs": [],
   "source": []
  }
 ],
 "metadata": {
  "kernelspec": {
   "display_name": "Python 3.8.11 ('app_revenue_accelerate_models_venv')",
   "language": "python",
   "name": "python3"
  },
  "language_info": {
   "codemirror_mode": {
    "name": "ipython",
    "version": 3
   },
   "file_extension": ".py",
   "mimetype": "text/x-python",
   "name": "python",
   "nbconvert_exporter": "python",
   "pygments_lexer": "ipython3",
   "version": "3.8.11"
  },
  "orig_nbformat": 4,
  "vscode": {
   "interpreter": {
    "hash": "b0a75179a2273649ff8ecddd27c6d8dbddb54035189b31d1b51de7ce630bda61"
   }
  }
 },
 "nbformat": 4,
 "nbformat_minor": 2
}
